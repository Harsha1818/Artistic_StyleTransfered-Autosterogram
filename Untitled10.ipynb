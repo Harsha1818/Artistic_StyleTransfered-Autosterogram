{
  "cells": [
    {
      "cell_type": "code",
      "execution_count": 5,
      "metadata": {},
      "outputs": [
        {
          "name": "stdout",
          "output_type": "stream",
          "text": [
            "Aligned pattern saved to aligned_pattern_output.png\n"
          ]
        }
      ],
      "source": [
        "from PIL import Image\n",
        "\n",
        "def generate_aligned_pattern(input_image_path, output_path, repetitions_x=5, repetitions_y=5):\n",
        "    \"\"\"\n",
        "    Generate a perfectly aligned repeated pattern image.\n",
        "    \n",
        "    :param input_image_path: Path to the input pattern image.\n",
        "    :param output_path: Path to save the perfectly aligned output image.\n",
        "    :param repetitions_x: Number of repetitions horizontally.\n",
        "    :param repetitions_y: Number of repetitions vertically.\n",
        "    \"\"\"\n",
        "    # Load the input image\n",
        "    input_image = Image.open(input_image_path)\n",
        "    image_width, image_height = input_image.size\n",
        "\n",
        "    # Calculate the size of the output canvas\n",
        "    output_width = image_width * repetitions_x\n",
        "    output_height = image_height * repetitions_y\n",
        "\n",
        "    # Create a blank canvas\n",
        "    output_image = Image.new(\"RGB\", (output_width, output_height))\n",
        "\n",
        "    # Paste the input image repeatedly without offset\n",
        "    for y in range(repetitions_y):\n",
        "        for x in range(repetitions_x):\n",
        "            output_image.paste(input_image, (x * image_width, y * image_height))\n",
        "\n",
        "    # Save the output image\n",
        "    output_image.save(output_path)\n",
        "    print(f\"Aligned pattern saved to {output_path}\")\n",
        "\n",
        "# Example usage\n",
        "if __name__ == \"__main__\":\n",
        "    input_image_path = \"stylized-image.png\"  # Input image\n",
        "    output_image_path = \"aligned_pattern_output.png\"\n",
        "\n",
        "    # Customize the number of repetitions\n",
        "    repetitions_x = int(input(\"Enter number of horizontal repetitions (e.g., 5): \"))\n",
        "    repetitions_y = int(input(\"Enter number of vertical repetitions (e.g., 5): \"))\n",
        "\n",
        "    generate_aligned_pattern(input_image_path, output_image_path, repetitions_x, repetitions_y)\n"
      ]
    },
    {
      "cell_type": "code",
      "execution_count": 10,
      "metadata": {},
      "outputs": [
        {
          "name": "stdout",
          "output_type": "stream",
          "text": [
            "Autostereogram saved to autostereogram_output.png\n"
          ]
        }
      ],
      "source": []
    },
    {
      "cell_type": "code",
      "execution_count": 14,
      "metadata": {},
      "outputs": [
        {
          "name": "stdout",
          "output_type": "stream",
          "text": [
            "Autostereogram saved to autostereogram_output.png\n"
          ]
        }
      ],
      "source": [
        "from PIL import Image\n",
        "import numpy as np\n",
        "\n",
        "def generate_autostereogram(pattern_path, depth_map_path, output_path, repetitions=8, depth_scale=10):\n",
        "    \"\"\"\n",
        "    Generate an autostereogram using a pattern image and a depth map.\n",
        "    \n",
        "    :param pattern_path: Path to the base pattern image.\n",
        "    :param depth_map_path: Path to the depth map image.\n",
        "    :param output_path: Path to save the autostereogram.\n",
        "    :param repetitions: Number of times the pattern repeats horizontally.\n",
        "    :param depth_scale: Depth intensity scaling factor.\n",
        "    \"\"\"\n",
        "    # Load the pattern and depth map\n",
        "    pattern = Image.open(pattern_path).convert(\"RGB\")\n",
        "    depth_map = Image.open(depth_map_path).convert(\"L\")\n",
        "\n",
        "    # Get dimensions\n",
        "    depth_width, depth_height = depth_map.size\n",
        "    pattern_width, pattern_height = pattern.size\n",
        "\n",
        "    # Scale the pattern to fit depth width with repetitions\n",
        "    scaled_pattern_width = depth_width // repetitions\n",
        "    scaled_pattern = pattern.resize((scaled_pattern_width, pattern_height))\n",
        "\n",
        "    # Create a blank canvas for the autostereogram\n",
        "    autostereogram = Image.new(\"RGB\", (depth_width, depth_height))\n",
        "    pixels = autostereogram.load()\n",
        "\n",
        "    # Generate autostereogram row-by-row\n",
        "    for y in range(depth_height):\n",
        "        row = np.zeros((depth_width, 3), dtype=np.uint8)\n",
        "        for x in range(depth_width):\n",
        "            # Get the depth value at pixel (x, y)\n",
        "            depth = depth_map.getpixel((x, y)) // depth_scale\n",
        "            offset_x = (x - depth) % scaled_pattern_width\n",
        "            row[x] = scaled_pattern.getpixel((offset_x, y % pattern_height))\n",
        "        for x in range(depth_width):\n",
        "            pixels[x, y] = tuple(row[x])\n",
        "\n",
        "    # Save the output\n",
        "    autostereogram.save(output_path)\n",
        "    print(f\"Autostereogram saved to {output_path}\")\n",
        "\n",
        "# Example usage\n",
        "if __name__ == \"__main__\":\n",
        "    # Paths\n",
        "    base_pattern_path = \"aligned_pattern_output.png\"  # Aligned pattern image\n",
        "    depth_map_path = \"flap.png\"        # User's depth map image\n",
        "    output_autostereogram_path = \"autostereogram_output.png\"\n",
        "\n",
        "    # Parameters\n",
        "    repetitions = int(input(\"Enter the number of repetitions (e.g., 8): \"))\n",
        "    depth_scale = int(input(\"Enter the depth scale (e.g., 10): \"))\n",
        "\n",
        "    # Generate the autostereogram\n",
        "    generate_autostereogram(base_pattern_path, depth_map_path, output_autostereogram_path, repetitions, depth_scale)\n"
      ]
    },
    {
      "cell_type": "code",
      "execution_count": null,
      "metadata": {},
      "outputs": [],
      "source": []
    }
  ],
  "metadata": {
    "accelerator": "GPU",
    "colab": {
      "gpuType": "T4",
      "provenance": []
    },
    "kernelspec": {
      "display_name": "Python 3",
      "name": "python3"
    },
    "language_info": {
      "codemirror_mode": {
        "name": "ipython",
        "version": 3
      },
      "file_extension": ".py",
      "mimetype": "text/x-python",
      "name": "python",
      "nbconvert_exporter": "python",
      "pygments_lexer": "ipython3",
      "version": "3.12.1"
    }
  },
  "nbformat": 4,
  "nbformat_minor": 0
}
